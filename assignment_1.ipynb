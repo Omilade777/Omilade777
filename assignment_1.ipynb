{
  "cells": [
    {
      "cell_type": "markdown",
      "metadata": {
        "id": "view-in-github",
        "colab_type": "text"
      },
      "source": [
        "<a href=\"https://colab.research.google.com/github/Omilade777/Omilade777/blob/main/assignment_1.ipynb\" target=\"_parent\"><img src=\"https://colab.research.google.com/assets/colab-badge.svg\" alt=\"Open In Colab\"/></a>"
      ]
    },
    {
      "cell_type": "markdown",
      "id": "874b74af",
      "metadata": {
        "deletable": false,
        "editable": false,
        "nbgrader": {
          "cell_type": "markdown",
          "checksum": "84d6264b7e02b24288e45cad674f97d3",
          "grade": false,
          "grade_id": "cell-66dc43d1b92d4f06",
          "locked": true,
          "schema_version": 3,
          "solution": false,
          "task": false
        },
        "id": "874b74af"
      },
      "source": [
        "# Unit 1 Sprint 1 Module 1\n",
        "\n",
        "## Introduction to Python\n",
        "\n",
        "### Objectives\n",
        "\n",
        "* Create and work with variable data types\n",
        "* Understand indexing and methods\n",
        "* Practice dictionary indexing\n",
        "\n",
        "#### Total notebook points: 8"
      ]
    },
    {
      "cell_type": "markdown",
      "id": "d36817b6",
      "metadata": {
        "deletable": false,
        "editable": false,
        "nbgrader": {
          "cell_type": "markdown",
          "checksum": "c0522dcce6a20ae4add6f69c2e7e6ef0",
          "grade": false,
          "grade_id": "cell-b0b49f9f926867f8",
          "locked": true,
          "schema_version": 3,
          "solution": false,
          "task": false
        },
        "id": "d36817b6"
      },
      "source": [
        "## Autograded Notebook (Canvas & CodeGrade)\n",
        "\n",
        "This notebook will be automatically graded. It is designed to test your answers and award points for the correct answers. Following the instructions for each Task carefully.\n",
        "\n",
        "### Instructions\n",
        "\n",
        "* **Download this notebook** as you would any other ipynb file\n",
        "* **Upload** to Google Colab or work locally (if you have that set-up)\n",
        "* **Delete `raise NotImplementedError()`**\n",
        "* Write your code in the `# YOUR CODE HERE` space\n",
        "* **Execute** the Test cells that contain `assert` statements - these help you check your work (others contain hidden tests that will be checked when you submit through Canvas)\n",
        "* **Save** your notebook when you are finished\n",
        "* **Download** as a `ipynb` file (if working in Colab)\n",
        "* **Upload** your complete notebook to Canvas (there will be additional instructions in Slack and/or Canvas)"
      ]
    },
    {
      "cell_type": "markdown",
      "id": "434746fa",
      "metadata": {
        "deletable": false,
        "editable": false,
        "nbgrader": {
          "cell_type": "markdown",
          "checksum": "a7573ad7f69d885113256176fb514238",
          "grade": false,
          "grade_id": "cell-477ac2a8dcaa6e20",
          "locked": true,
          "schema_version": 3,
          "solution": false,
          "task": false
        },
        "id": "434746fa"
      },
      "source": [
        "## Autograded Module Projects\n",
        "\n",
        "Welcome to the first Module Project of Unit 1! You will complete a project (sometimes also referred to as an assignment) after the Guided Project for each Module. There will be four Module Projects per Sprint and each project is designed to provide you with an opportunity to practice what you learned in the Canvas Warm-up material and the Guided Project with your instructors.\n",
        "\n",
        "Throughout Unit 1, the Module Projects and the Sprint Challenges are *autograded*. You will complete your work in a Jupyter/Python notebook (the files that end with `.ipynb`) and then upload your completed notebook to Canvas and submit for grading. This autograding process will check your answers and provide more information about the errors in your notebook. You'll receive a score when the testing is complete.\n",
        "\n",
        "So, let's get started! If you are reading this notebook, then you have the correct autograded version."
      ]
    },
    {
      "cell_type": "code",
      "source": [
        "\"carmen_ahmad\""
      ],
      "metadata": {
        "colab": {
          "base_uri": "https://localhost:8080/",
          "height": 35
        },
        "id": "fXPihdODgIgB",
        "outputId": "cbe08e58-0b44-4a5f-95bf-dd3ebab8e415"
      },
      "id": "fXPihdODgIgB",
      "execution_count": null,
      "outputs": [
        {
          "output_type": "execute_result",
          "data": {
            "text/plain": [
              "'carmen_ahmad'"
            ],
            "application/vnd.google.colaboratory.intrinsic+json": {
              "type": "string"
            }
          },
          "metadata": {},
          "execution_count": 2
        }
      ]
    },
    {
      "cell_type": "markdown",
      "id": "9ed2a26e",
      "metadata": {
        "deletable": false,
        "editable": false,
        "nbgrader": {
          "cell_type": "markdown",
          "checksum": "42001a3ead56c42598be9ba0c5f05cf7",
          "grade": false,
          "grade_id": "cell-00178f4254ca81ed",
          "locked": true,
          "schema_version": 3,
          "solution": false,
          "task": false
        },
        "id": "9ed2a26e"
      },
      "source": [
        "**Task 2** - Variable data types\n",
        "\n",
        "* Assign the number `10` to a variable called `first_num`\n",
        "* Assign the number `5` to a variable called `second_num`\n",
        "* Assign the number `2` to a variable called `num_two`"
      ]
    },
    {
      "cell_type": "code",
      "source": [
        "first_num = \"10\"\n",
        "second_num = \"5\"\n",
        "num_two = \"2\""
      ],
      "metadata": {
        "id": "Nous5aTAhK_Q"
      },
      "id": "Nous5aTAhK_Q",
      "execution_count": null,
      "outputs": []
    },
    {
      "cell_type": "markdown",
      "id": "aa040adc",
      "metadata": {
        "deletable": false,
        "editable": false,
        "nbgrader": {
          "cell_type": "markdown",
          "checksum": "de0a0ee3a532fd217abcbc38fd76cbd1",
          "grade": false,
          "grade_id": "cell-b103f366a3400307",
          "locked": true,
          "schema_version": 3,
          "solution": false,
          "task": false
        },
        "id": "aa040adc"
      },
      "source": [
        "**Task 2 Test**"
      ]
    },
    {
      "cell_type": "code",
      "execution_count": null,
      "id": "642c27f2",
      "metadata": {
        "deletable": false,
        "editable": false,
        "nbgrader": {
          "cell_type": "code",
          "checksum": "1daf51db8422edc9a0fa67dd88f3cfa9",
          "grade": true,
          "grade_id": "cell-a33f13464286f445",
          "locked": true,
          "points": 1,
          "schema_version": 3,
          "solution": false,
          "task": false
        },
        "id": "642c27f2"
      },
      "outputs": [],
      "source": [
        "#Task 2 - Test\n",
        "# Hidden tests - you will see the results when you submit to Canvas"
      ]
    },
    {
      "cell_type": "markdown",
      "id": "03f87c19",
      "metadata": {
        "deletable": false,
        "editable": false,
        "nbgrader": {
          "cell_type": "markdown",
          "checksum": "5d37a1095dfb991dc98b31d130b3d8f2",
          "grade": false,
          "grade_id": "cell-f534c68a18f9681b",
          "locked": true,
          "schema_version": 3,
          "solution": false,
          "task": false
        },
        "id": "03f87c19"
      },
      "source": [
        "**Task 3** - Operators\n",
        "* Return the product of all three variables created in the task above. Assign it to an object called `product_total`.\n",
        "* Return the floor division of `product_total` by 7. Assign it **as an interger** to an object called `floor_value`."
      ]
    },
    {
      "cell_type": "markdown",
      "id": "7d022078",
      "metadata": {
        "deletable": false,
        "editable": false,
        "nbgrader": {
          "cell_type": "markdown",
          "checksum": "14b9f99e17b9b210d2535f4e6f51c99b",
          "grade": false,
          "grade_id": "cell-eb58990e2b60db57",
          "locked": true,
          "schema_version": 3,
          "solution": false,
          "task": false
        },
        "id": "7d022078"
      },
      "source": [
        "**Task 3 Test**"
      ]
    },
    {
      "cell_type": "code",
      "execution_count": null,
      "id": "a5458ddb",
      "metadata": {
        "deletable": false,
        "editable": false,
        "nbgrader": {
          "cell_type": "code",
          "checksum": "a65888afc319f35963b9cddb3ecd0602",
          "grade": true,
          "grade_id": "cell-c96d884a0d9c28fe",
          "locked": true,
          "points": 1,
          "schema_version": 3,
          "solution": false,
          "task": false
        },
        "id": "a5458ddb"
      },
      "outputs": [],
      "source": [
        "#Task 3 Test\n",
        "\n",
        "assert product_total == 100, \"Check your operators.\"\n",
        "\n",
        "# Hidden tests - you will see the results when you submit to Canvas\n"
      ]
    },
    {
      "cell_type": "markdown",
      "id": "b2004de1",
      "metadata": {
        "deletable": false,
        "editable": false,
        "nbgrader": {
          "cell_type": "markdown",
          "checksum": "ddc9059b0ea4224d18abdfdd517cc6a3",
          "grade": false,
          "grade_id": "cell-b7322a77f8499b57",
          "locked": true,
          "schema_version": 3,
          "solution": false,
          "task": false
        },
        "id": "b2004de1"
      },
      "source": [
        "**Task 4a** Python Data Types\n",
        "* Create a list of five objects: `red`, `green`, `blue`, `yellow`, `purple`. Assign this list **in alphabetical order** to an object called `five_colors`.  \n"
      ]
    },
    {
      "cell_type": "code",
      "execution_count": null,
      "id": "d86312ee",
      "metadata": {
        "deletable": false,
        "nbgrader": {
          "cell_type": "code",
          "checksum": "f6eb23109523a083eeed8ac7c6c3c11b",
          "grade": false,
          "grade_id": "cell-32200b8130c2bd81",
          "locked": false,
          "schema_version": 3,
          "solution": true,
          "task": false
        },
        "id": "d86312ee",
        "colab": {
          "base_uri": "https://localhost:8080/"
        },
        "outputId": "0b87d01a-c53a-46ab-ac41-85629fb0a4dd"
      },
      "outputs": [
        {
          "output_type": "execute_result",
          "data": {
            "text/plain": [
              "['blue', 'green', 'purple', 'red', 'yellow']"
            ]
          },
          "metadata": {},
          "execution_count": 14
        }
      ],
      "source": [
        "five_colors= ['red','green','blue','yellow','purple']\n",
        "five_colors.sort()\n",
        "five_colors"
      ]
    },
    {
      "cell_type": "markdown",
      "id": "9838246a",
      "metadata": {
        "deletable": false,
        "editable": false,
        "nbgrader": {
          "cell_type": "markdown",
          "checksum": "4aa3411bd6c18fa8a9e028fe90d11d87",
          "grade": false,
          "grade_id": "cell-86ed62c5a4c79d84",
          "locked": true,
          "schema_version": 3,
          "solution": false,
          "task": false
        },
        "id": "9838246a"
      },
      "source": [
        "**Task 4a Test**"
      ]
    },
    {
      "cell_type": "code",
      "source": [
        "(five_colors)==5"
      ],
      "metadata": {
        "colab": {
          "base_uri": "https://localhost:8080/"
        },
        "id": "58_jOZkntNAa",
        "outputId": "3f36447a-38cc-4d45-fd11-4e413ecc2d36"
      },
      "id": "58_jOZkntNAa",
      "execution_count": null,
      "outputs": [
        {
          "output_type": "execute_result",
          "data": {
            "text/plain": [
              "False"
            ]
          },
          "metadata": {},
          "execution_count": 15
        }
      ]
    },
    {
      "cell_type": "code",
      "execution_count": null,
      "id": "442f138a",
      "metadata": {
        "deletable": false,
        "editable": false,
        "nbgrader": {
          "cell_type": "code",
          "checksum": "14cbf1922d6bb9e6d7bfff372c4798a0",
          "grade": true,
          "grade_id": "cell-041962ba22262d5e",
          "locked": true,
          "points": 0.5,
          "schema_version": 3,
          "solution": false,
          "task": false
        },
        "id": "442f138a"
      },
      "outputs": [],
      "source": [
        "#Task 4a Test\n",
        "assert len(five_colors) == 5\n",
        "# Hidden tests - you will see the results when you submit to Canvas"
      ]
    },
    {
      "cell_type": "markdown",
      "id": "aca4a25b",
      "metadata": {
        "deletable": false,
        "editable": false,
        "nbgrader": {
          "cell_type": "markdown",
          "checksum": "4bcbc1f7b8ce0980b62c341c1518f054",
          "grade": false,
          "grade_id": "cell-7ae0fb57d4f78fd6",
          "locked": true,
          "schema_version": 3,
          "solution": false,
          "task": false
        },
        "id": "aca4a25b"
      },
      "source": [
        "**Task 4b** Python Data Types\n",
        "* Remove the value that is in the middle of the `five_colors` list. Assign this new list to an object called `four_colors`."
      ]
    },
    {
      "cell_type": "code",
      "execution_count": null,
      "id": "7fde1360",
      "metadata": {
        "deletable": false,
        "nbgrader": {
          "cell_type": "code",
          "checksum": "3f1fb91fd70c2027dfd55160bec40d6b",
          "grade": false,
          "grade_id": "cell-de568d701f9137ca",
          "locked": false,
          "schema_version": 3,
          "solution": true,
          "task": false
        },
        "id": "7fde1360",
        "colab": {
          "base_uri": "https://localhost:8080/"
        },
        "outputId": "060603cd-4626-47e7-9bc9-e77e6eda93eb"
      },
      "outputs": [
        {
          "output_type": "execute_result",
          "data": {
            "text/plain": [
              "['blue', 'green', 'red', 'yellow']"
            ]
          },
          "metadata": {},
          "execution_count": 17
        }
      ],
      "source": [
        "#five_colors.remove('purple')\n",
        "five_colors"
      ]
    },
    {
      "cell_type": "code",
      "source": [
        "len(five_colors) == 5"
      ],
      "metadata": {
        "colab": {
          "base_uri": "https://localhost:8080/"
        },
        "id": "IjarCCZUvEvb",
        "outputId": "6ee33983-03ec-40c5-8064-dbfbac762472"
      },
      "id": "IjarCCZUvEvb",
      "execution_count": null,
      "outputs": [
        {
          "output_type": "execute_result",
          "data": {
            "text/plain": [
              "False"
            ]
          },
          "metadata": {},
          "execution_count": 18
        }
      ]
    },
    {
      "cell_type": "code",
      "source": [
        "five_colors[2]"
      ],
      "metadata": {
        "colab": {
          "base_uri": "https://localhost:8080/",
          "height": 35
        },
        "id": "IAFL2jSuvret",
        "outputId": "d53c7845-48ad-4e32-e28b-a583fd5f9d4f"
      },
      "id": "IAFL2jSuvret",
      "execution_count": null,
      "outputs": [
        {
          "output_type": "execute_result",
          "data": {
            "text/plain": [
              "'red'"
            ],
            "application/vnd.google.colaboratory.intrinsic+json": {
              "type": "string"
            }
          },
          "metadata": {},
          "execution_count": 20
        }
      ]
    },
    {
      "cell_type": "code",
      "source": [
        "four_colors = five_colors"
      ],
      "metadata": {
        "id": "_LczUpz3wQ7N"
      },
      "id": "_LczUpz3wQ7N",
      "execution_count": null,
      "outputs": []
    },
    {
      "cell_type": "code",
      "source": [
        "len(five_colors)//2"
      ],
      "metadata": {
        "colab": {
          "base_uri": "https://localhost:8080/"
        },
        "id": "0YBF8fNKvSba",
        "outputId": "aba6ad86-d638-4be4-f187-76088117d00d"
      },
      "id": "0YBF8fNKvSba",
      "execution_count": null,
      "outputs": [
        {
          "output_type": "execute_result",
          "data": {
            "text/plain": [
              "2"
            ]
          },
          "metadata": {},
          "execution_count": 19
        }
      ]
    },
    {
      "cell_type": "code",
      "source": [
        "len(four_colors) == 4,"
      ],
      "metadata": {
        "colab": {
          "base_uri": "https://localhost:8080/"
        },
        "id": "QaIGIwDxzub3",
        "outputId": "502f03b7-99f2-489e-b68c-d3d2d3fd2ce6"
      },
      "id": "QaIGIwDxzub3",
      "execution_count": null,
      "outputs": [
        {
          "output_type": "execute_result",
          "data": {
            "text/plain": [
              "(True,)"
            ]
          },
          "metadata": {},
          "execution_count": 27
        }
      ]
    },
    {
      "cell_type": "code",
      "execution_count": null,
      "id": "7c457741",
      "metadata": {
        "deletable": false,
        "editable": false,
        "nbgrader": {
          "cell_type": "code",
          "checksum": "683d454f9ab5c7b5690b3788cae49bcb",
          "grade": true,
          "grade_id": "cell-9ab8dc3c20c2a9c1",
          "locked": true,
          "points": 0.5,
          "schema_version": 3,
          "solution": false,
          "task": false
        },
        "id": "7c457741"
      },
      "outputs": [],
      "source": [
        "#Task 4b Test\n",
        "assert len(four_colors) == 4, \"Try displaying or printing the output of your object to verify your results\"\n",
        "# Hidden tests - you will see the results when you submit to Canvas\n"
      ]
    },
    {
      "cell_type": "markdown",
      "id": "e9ddc0a0",
      "metadata": {
        "deletable": false,
        "editable": false,
        "nbgrader": {
          "cell_type": "markdown",
          "checksum": "0d535951ab54de21e2f2f261f25267ac",
          "grade": false,
          "grade_id": "cell-0241eccb6598bb3f",
          "locked": true,
          "schema_version": 3,
          "solution": false,
          "task": false
        },
        "id": "e9ddc0a0"
      },
      "source": [
        "**Task 5** - Indexing\n",
        "* Use indexing to return the *third* item in the `four_colors` list. Assign this to an object called `third_color`.\n",
        "* Next, use string indexing to return the first and the last letter of the `third_color` object. Assign it to an object called `first_and_last`.   \n"
      ]
    },
    {
      "cell_type": "code",
      "execution_count": null,
      "id": "4fd187c3",
      "metadata": {
        "deletable": false,
        "nbgrader": {
          "cell_type": "code",
          "checksum": "e6495e4b60c70493f5b56c215560b47a",
          "grade": false,
          "grade_id": "cell-9809eb2fc05f4fa5",
          "locked": false,
          "schema_version": 3,
          "solution": true,
          "task": false
        },
        "id": "4fd187c3",
        "colab": {
          "base_uri": "https://localhost:8080/",
          "height": 35
        },
        "outputId": "7a150f87-73aa-4475-8979-16733efe8104"
      },
      "outputs": [
        {
          "output_type": "execute_result",
          "data": {
            "text/plain": [
              "'d'"
            ],
            "application/vnd.google.colaboratory.intrinsic+json": {
              "type": "string"
            }
          },
          "metadata": {},
          "execution_count": 31
        }
      ],
      "source": [
        "# YOUR CODE HERE\n",
        "third_color = four_colors[2]\n",
        "\n",
        "first_and_last = third_color[-1]\n",
        "first_and_last"
      ]
    },
    {
      "cell_type": "markdown",
      "id": "70dbeb73",
      "metadata": {
        "deletable": false,
        "editable": false,
        "nbgrader": {
          "cell_type": "markdown",
          "checksum": "ee3bf837dbe6f952cbb6593aff968ed2",
          "grade": false,
          "grade_id": "cell-02167e38b7bf155b",
          "locked": true,
          "schema_version": 3,
          "solution": false,
          "task": false
        },
        "id": "70dbeb73"
      },
      "source": [
        "**Task 5 Test**"
      ]
    },
    {
      "cell_type": "code",
      "source": [
        "third_color == 'red'"
      ],
      "metadata": {
        "colab": {
          "base_uri": "https://localhost:8080/"
        },
        "id": "NMKtdtuc0bTH",
        "outputId": "fbe26f3f-906e-489c-f44b-ed0eaa0b29d5"
      },
      "id": "NMKtdtuc0bTH",
      "execution_count": null,
      "outputs": [
        {
          "output_type": "execute_result",
          "data": {
            "text/plain": [
              "True"
            ]
          },
          "metadata": {},
          "execution_count": 32
        }
      ]
    },
    {
      "cell_type": "code",
      "execution_count": null,
      "id": "540bd086",
      "metadata": {
        "deletable": false,
        "editable": false,
        "nbgrader": {
          "cell_type": "code",
          "checksum": "6437a8c97d646867e2ab53a1cfc10cd8",
          "grade": true,
          "grade_id": "cell-229ed9f4a0babeba",
          "locked": true,
          "points": 1,
          "schema_version": 3,
          "solution": false,
          "task": false
        },
        "id": "540bd086"
      },
      "outputs": [],
      "source": [
        "#Task 5 Test\n",
        "assert third_color == 'red'\n",
        "# Hidden tests - you will see the results when you submit to Canvas"
      ]
    },
    {
      "cell_type": "markdown",
      "id": "913f6060",
      "metadata": {
        "deletable": false,
        "editable": false,
        "nbgrader": {
          "cell_type": "markdown",
          "checksum": "61126c9756d4fdf1dd9a8531474aca01",
          "grade": false,
          "grade_id": "cell-18fa4e019b350589",
          "locked": true,
          "schema_version": 3,
          "solution": false,
          "task": false
        },
        "id": "913f6060"
      },
      "source": [
        "**Task 6a** - Indexing\n",
        "* Create a dictionary that includes the following key: value pairs: `charizard: fire, squirtle: water, bulbasaur: leaf`. Assign it to an object called `poke_dictionary`"
      ]
    },
    {
      "cell_type": "code",
      "execution_count": null,
      "id": "bf8be622",
      "metadata": {
        "deletable": false,
        "nbgrader": {
          "cell_type": "code",
          "checksum": "bc2ddb59390ee88200994eb110c20180",
          "grade": false,
          "grade_id": "cell-24b1a6230e320ec9",
          "locked": false,
          "schema_version": 3,
          "solution": true,
          "task": false
        },
        "id": "bf8be622"
      },
      "outputs": [],
      "source": [
        "# YOUR CODE HERE\n",
        "poke_dictionary = {'charizard': 'fire',\n",
        "                   'squirtle': 'water',\n",
        "                   'bulbasaur': 'leaf'}\n"
      ]
    },
    {
      "cell_type": "markdown",
      "id": "13821352",
      "metadata": {
        "deletable": false,
        "editable": false,
        "nbgrader": {
          "cell_type": "markdown",
          "checksum": "e37a6de97d3db9e86ce4c3a975c1551b",
          "grade": false,
          "grade_id": "cell-55b29c2e48a8aeee",
          "locked": true,
          "schema_version": 3,
          "solution": false,
          "task": false
        },
        "id": "13821352"
      },
      "source": [
        "**Task 6a Test**"
      ]
    },
    {
      "cell_type": "code",
      "source": [
        "len(poke_dictionary.keys()) == 3"
      ],
      "metadata": {
        "colab": {
          "base_uri": "https://localhost:8080/"
        },
        "id": "o4SSpib-3B-C",
        "outputId": "a6a4c090-8a6d-44b5-dbae-d1fcf5c69923"
      },
      "id": "o4SSpib-3B-C",
      "execution_count": null,
      "outputs": [
        {
          "output_type": "execute_result",
          "data": {
            "text/plain": [
              "True"
            ]
          },
          "metadata": {},
          "execution_count": 34
        }
      ]
    },
    {
      "cell_type": "code",
      "execution_count": null,
      "id": "130f4536",
      "metadata": {
        "deletable": false,
        "editable": false,
        "nbgrader": {
          "cell_type": "code",
          "checksum": "e60a8a59a3be435951e9b2862c8da5f7",
          "grade": true,
          "grade_id": "cell-5ad0aaf04fb6881b",
          "locked": true,
          "points": 0.5,
          "schema_version": 3,
          "solution": false,
          "task": false
        },
        "id": "130f4536"
      },
      "outputs": [],
      "source": [
        "#Task 6a Test\n",
        "assert len(poke_dictionary.keys()) == 3, \"Verify your syntax. Did you create a dictionary object?\"\n",
        "\n",
        "# Hidden tests - you will see the results when you submit to Canvas\n"
      ]
    },
    {
      "cell_type": "markdown",
      "id": "8dc33e71",
      "metadata": {
        "deletable": false,
        "editable": false,
        "nbgrader": {
          "cell_type": "markdown",
          "checksum": "5a8e4ac4d394552fc6e931ab9e829eb5",
          "grade": false,
          "grade_id": "cell-c1aca4c65563149c",
          "locked": true,
          "schema_version": 3,
          "solution": false,
          "task": false
        },
        "id": "8dc33e71"
      },
      "source": [
        "**Task 6b** - Indexing\n",
        "* Create a new dictionary called `more_poke` that includes the following: `pikachu: electric, pidgey: air`\n",
        "* Combine the key and values of the `more_poke` with the original `poke_dictionary`.\n",
        ">Hint: You may need to research how to combine two dictionaries.\n",
        "* Assign all the `dictionary values` of the `poke_dictionary` to an object called `poke_values`.\n",
        ">Hint: Your output for `poke_values` will look like: `dict_values(['fire', 'water', 'leaf', 'electric', 'air'])`"
      ]
    },
    {
      "cell_type": "code",
      "execution_count": null,
      "id": "71388e13",
      "metadata": {
        "deletable": false,
        "nbgrader": {
          "cell_type": "code",
          "checksum": "455ca1aa6a8caff53721ba774c2d3350",
          "grade": false,
          "grade_id": "cell-0b4582e6a68091ef",
          "locked": false,
          "schema_version": 3,
          "solution": true,
          "task": false
        },
        "id": "71388e13",
        "colab": {
          "base_uri": "https://localhost:8080/"
        },
        "outputId": "620110f4-a425-41f3-fb9e-90452c7eec38"
      },
      "outputs": [
        {
          "output_type": "execute_result",
          "data": {
            "text/plain": [
              "dict_values(['fire', 'water', 'leaf', 'electric', 'air'])"
            ]
          },
          "metadata": {},
          "execution_count": 39
        }
      ],
      "source": [
        "# YOUR CODE HERE\n",
        "more_poke = {'pikachu': 'electric',\n",
        "             'pidgey' : 'air'}\n",
        "poke_dictionary.update(more_poke)\n",
        "poke_values = poke_dictionary.values()\n",
        "poke_values\n",
        "\n"
      ]
    },
    {
      "cell_type": "markdown",
      "id": "9ee71555",
      "metadata": {
        "deletable": false,
        "editable": false,
        "nbgrader": {
          "cell_type": "markdown",
          "checksum": "fa97097d64bf14cd4c6374c821300ad1",
          "grade": false,
          "grade_id": "cell-2c1ed604143ef367",
          "locked": true,
          "schema_version": 3,
          "solution": false,
          "task": false
        },
        "id": "9ee71555"
      },
      "source": [
        "**Task 6b Tests**"
      ]
    },
    {
      "cell_type": "code",
      "execution_count": null,
      "id": "ffe3d031",
      "metadata": {
        "deletable": false,
        "editable": false,
        "nbgrader": {
          "cell_type": "code",
          "checksum": "ad115f903e988a759beb8a301c913965",
          "grade": true,
          "grade_id": "cell-c561f60e90446fd7",
          "locked": true,
          "points": 0.5,
          "schema_version": 3,
          "solution": false,
          "task": false
        },
        "id": "ffe3d031"
      },
      "outputs": [],
      "source": [
        "#Task 6b Test\n",
        "assert isinstance(more_poke, dict), \"Check your syntax. Did you create a dictionary object?\"\n",
        "assert len(poke_dictionary) == 5, \"Did you properly combine both dictionaries?\"\n",
        "# Hidden tests - you will see the results when you submit to Canvas\n",
        "\n",
        "\n"
      ]
    },
    {
      "cell_type": "markdown",
      "id": "7b6e4a7f",
      "metadata": {
        "deletable": false,
        "editable": false,
        "nbgrader": {
          "cell_type": "markdown",
          "checksum": "0867155a2af71262eed00d6d78984ab8",
          "grade": false,
          "grade_id": "cell-eae7a9e336671bc6",
          "locked": true,
          "schema_version": 3,
          "solution": false,
          "task": false
        },
        "id": "7b6e4a7f"
      },
      "source": [
        "**Task 7** Loops\n",
        "* Use a for loop to go through the `poke_dictionary` object. Return all the dictionary **values** as uppercase letters and the **keys** as lowercase values.\n",
        "* *Hint*: This [StackOverflow](https://stackoverflow.com/questions/50004310/convert-python-dictionary-to-uppercase) page offers a solution (with a slight adjustment), but there are multiple ways you can do this!"
      ]
    },
    {
      "cell_type": "code",
      "execution_count": null,
      "id": "26316052",
      "metadata": {
        "deletable": false,
        "nbgrader": {
          "cell_type": "code",
          "checksum": "20bf94d548e22b001becf237224085c8",
          "grade": false,
          "grade_id": "cell-0535b02af29e01e7",
          "locked": false,
          "schema_version": 3,
          "solution": true,
          "task": false
        },
        "id": "26316052",
        "colab": {
          "base_uri": "https://localhost:8080/"
        },
        "outputId": "d40ba502-82d3-437d-d8c0-4da8cd3f8bbc"
      },
      "outputs": [
        {
          "output_type": "stream",
          "name": "stdout",
          "text": [
            "charizard\n",
            "squirtle\n",
            "bulbasaur\n",
            "pikachu\n",
            "pidgey\n"
          ]
        }
      ],
      "source": [
        "# YOUR CODE HERE\n",
        "for i in poke_dictionary:\n",
        "      print(i)"
      ]
    },
    {
      "cell_type": "markdown",
      "id": "a49cd552",
      "metadata": {
        "deletable": false,
        "editable": false,
        "nbgrader": {
          "cell_type": "markdown",
          "checksum": "1e1736d1c2840096120675e9d06f4827",
          "grade": false,
          "grade_id": "cell-bca76de42c5c2d85",
          "locked": true,
          "schema_version": 3,
          "solution": false,
          "task": false
        },
        "id": "a49cd552"
      },
      "source": [
        "**Task 7 Test**"
      ]
    },
    {
      "cell_type": "code",
      "source": [
        "poke_dictionary['pikachu']"
      ],
      "metadata": {
        "colab": {
          "base_uri": "https://localhost:8080/",
          "height": 35
        },
        "id": "VVB-urK-6oba",
        "outputId": "228f3ae5-c398-4989-ac09-38bfe403fc70"
      },
      "id": "VVB-urK-6oba",
      "execution_count": null,
      "outputs": [
        {
          "output_type": "execute_result",
          "data": {
            "text/plain": [
              "'electric'"
            ],
            "application/vnd.google.colaboratory.intrinsic+json": {
              "type": "string"
            }
          },
          "metadata": {},
          "execution_count": 44
        }
      ]
    },
    {
      "cell_type": "code",
      "source": [
        "for i in poke_dictionary:\n",
        "    poke_dictionary[i] = poke_dictionary[i].upper()\n"
      ],
      "metadata": {
        "id": "oDieSdKP56Qv"
      },
      "id": "oDieSdKP56Qv",
      "execution_count": null,
      "outputs": []
    },
    {
      "cell_type": "code",
      "execution_count": null,
      "id": "9f1f53d4",
      "metadata": {
        "deletable": false,
        "editable": false,
        "nbgrader": {
          "cell_type": "code",
          "checksum": "99d2598c47f8c65240eaaa196b67b90f",
          "grade": true,
          "grade_id": "cell-0e4a39d38c38f186",
          "locked": true,
          "points": 1,
          "schema_version": 3,
          "solution": false,
          "task": false
        },
        "id": "9f1f53d4"
      },
      "outputs": [],
      "source": [
        "#Task 8 Test\n",
        "assert poke_dictionary['pikachu'].isupper(), \"Your dictionary values should all be uppercase\""
      ]
    },
    {
      "cell_type": "markdown",
      "id": "e16c47d5",
      "metadata": {
        "deletable": false,
        "editable": false,
        "nbgrader": {
          "cell_type": "markdown",
          "checksum": "bdc78e93de6dd5f62816ab96f4503105",
          "grade": false,
          "grade_id": "cell-7ddb13dfb23b417b",
          "locked": true,
          "schema_version": 3,
          "solution": false,
          "task": false
        },
        "id": "e16c47d5"
      },
      "source": [
        "**Task 8** Imports\n",
        "* Import the `seaborn` and `pandas` library. Alias the libraries as `sns` and `pd` respectively.\n",
        "* Use the `sns` library to load a dataset of your choice. Assign it to an object called `df`.\n",
        "* Run the following code: `df.loc[0]`. What data type is this? Assign your answer to an object called `first_row_type`.\n"
      ]
    },
    {
      "cell_type": "code",
      "execution_count": null,
      "id": "d3307118",
      "metadata": {
        "deletable": false,
        "nbgrader": {
          "cell_type": "code",
          "checksum": "d6875330a3b0ec27e2c5b3753406f119",
          "grade": false,
          "grade_id": "cell-6ed26cd55b737be1",
          "locked": false,
          "schema_version": 3,
          "solution": true,
          "task": false
        },
        "id": "d3307118",
        "colab": {
          "base_uri": "https://localhost:8080/"
        },
        "outputId": "a54b8535-7537-42b2-ec8b-b9abe15bb930"
      },
      "outputs": [
        {
          "output_type": "execute_result",
          "data": {
            "text/plain": [
              "pandas.core.series.Series"
            ]
          },
          "metadata": {},
          "execution_count": 54
        }
      ],
      "source": [
        "import seaborn as sns\n",
        "import pandas as pd\n",
        "\n",
        "df = sns.load_dataset('diamonds')\n",
        "type(df.loc[0])\n"
      ]
    },
    {
      "cell_type": "markdown",
      "id": "e2f74e3a",
      "metadata": {
        "deletable": false,
        "editable": false,
        "nbgrader": {
          "cell_type": "markdown",
          "checksum": "ae09cb38b4b969d9fc1740cf59808980",
          "grade": false,
          "grade_id": "cell-445cad8112655942",
          "locked": true,
          "schema_version": 3,
          "solution": false,
          "task": false
        },
        "id": "e2f74e3a"
      },
      "source": [
        "**Task 8 Test**"
      ]
    },
    {
      "cell_type": "code",
      "execution_count": null,
      "id": "259d7f18",
      "metadata": {
        "deletable": false,
        "editable": false,
        "nbgrader": {
          "cell_type": "code",
          "checksum": "eda7d5cc0eba1068ff042f14350a27df",
          "grade": true,
          "grade_id": "cell-39cc971493c3004e",
          "locked": true,
          "points": 1,
          "schema_version": 3,
          "solution": false,
          "task": false
        },
        "id": "259d7f18"
      },
      "outputs": [],
      "source": [
        "#Task 8 Test\n",
        "\n",
        "assert isinstance(df, pd.DataFrame), \"Did you import the pandas library? Did you check the datatype of the df object?\"\n",
        "\n",
        "# Hidden tests - you will see the results when you submit to Canvas"
      ]
    }
  ],
  "metadata": {
    "kernelspec": {
      "display_name": "Python 3",
      "language": "python",
      "name": "python3"
    },
    "language_info": {
      "codemirror_mode": {
        "name": "ipython",
        "version": 3
      },
      "file_extension": ".py",
      "mimetype": "text/x-python",
      "name": "python",
      "nbconvert_exporter": "python",
      "pygments_lexer": "ipython3",
      "version": "3.8.8"
    },
    "colab": {
      "provenance": [],
      "include_colab_link": true
    }
  },
  "nbformat": 4,
  "nbformat_minor": 5
}